{
 "cells": [
  {
   "cell_type": "code",
   "execution_count": 13,
   "metadata": {},
   "outputs": [],
   "source": [
    "import pandas as pd\n",
    "import numpy as np"
   ]
  },
  {
   "cell_type": "code",
   "execution_count": 14,
   "metadata": {},
   "outputs": [],
   "source": [
    "df = pd.read_csv(r'C:\\Users\\KARAN\\Downloads\\DSML_PRACTICAL\\DSML_PRACTICAL\\Datasets\\Titanic.csv')"
   ]
  },
  {
   "cell_type": "code",
   "execution_count": 15,
   "metadata": {},
   "outputs": [
    {
     "name": "stdout",
     "output_type": "stream",
     "text": [
      "   PassengerId  Survived  Pclass  \\\n",
      "0          892         0       3   \n",
      "1          893         1       3   \n",
      "2          894         0       2   \n",
      "3          895         0       3   \n",
      "4          896         1       3   \n",
      "\n",
      "                                           Name     Sex   Age  SibSp  Parch  \\\n",
      "0                              Kelly, Mr. James    male  34.5      0      0   \n",
      "1              Wilkes, Mrs. James (Ellen Needs)  female  47.0      1      0   \n",
      "2                     Myles, Mr. Thomas Francis    male  62.0      0      0   \n",
      "3                              Wirz, Mr. Albert    male  27.0      0      0   \n",
      "4  Hirvonen, Mrs. Alexander (Helga E Lindqvist)  female  22.0      1      1   \n",
      "\n",
      "    Ticket     Fare Cabin Embarked  \n",
      "0   330911   7.8292   NaN        Q  \n",
      "1   363272   7.0000   NaN        S  \n",
      "2   240276   9.6875   NaN        Q  \n",
      "3   315154   8.6625   NaN        S  \n",
      "4  3101298  12.2875   NaN        S  \n"
     ]
    }
   ],
   "source": [
    "print(df.head())"
   ]
  },
  {
   "cell_type": "code",
   "execution_count": 16,
   "metadata": {},
   "outputs": [
    {
     "name": "stdout",
     "output_type": "stream",
     "text": [
      "     PassengerId  Survived  Pclass                     Name   Sex   Age  \\\n",
      "372         1264         0       1  Ismay, Mr. Joseph Bruce  male  49.0   \n",
      "\n",
      "     SibSp  Parch  Ticket  Fare        Cabin Embarked  \n",
      "372      0      0  112058   0.0  B52 B54 B56        S  \n"
     ]
    }
   ],
   "source": [
    "print(df.sample())"
   ]
  },
  {
   "cell_type": "code",
   "execution_count": 17,
   "metadata": {},
   "outputs": [
    {
     "name": "stdout",
     "output_type": "stream",
     "text": [
      "setting passengerID as Index\n"
     ]
    },
    {
     "data": {
      "text/html": [
       "<div>\n",
       "<style scoped>\n",
       "    .dataframe tbody tr th:only-of-type {\n",
       "        vertical-align: middle;\n",
       "    }\n",
       "\n",
       "    .dataframe tbody tr th {\n",
       "        vertical-align: top;\n",
       "    }\n",
       "\n",
       "    .dataframe thead th {\n",
       "        text-align: right;\n",
       "    }\n",
       "</style>\n",
       "<table border=\"1\" class=\"dataframe\">\n",
       "  <thead>\n",
       "    <tr style=\"text-align: right;\">\n",
       "      <th></th>\n",
       "      <th>Survived</th>\n",
       "      <th>Pclass</th>\n",
       "      <th>Name</th>\n",
       "      <th>Sex</th>\n",
       "      <th>Age</th>\n",
       "      <th>SibSp</th>\n",
       "      <th>Parch</th>\n",
       "      <th>Ticket</th>\n",
       "      <th>Fare</th>\n",
       "      <th>Cabin</th>\n",
       "      <th>Embarked</th>\n",
       "    </tr>\n",
       "    <tr>\n",
       "      <th>PassengerId</th>\n",
       "      <th></th>\n",
       "      <th></th>\n",
       "      <th></th>\n",
       "      <th></th>\n",
       "      <th></th>\n",
       "      <th></th>\n",
       "      <th></th>\n",
       "      <th></th>\n",
       "      <th></th>\n",
       "      <th></th>\n",
       "      <th></th>\n",
       "    </tr>\n",
       "  </thead>\n",
       "  <tbody>\n",
       "    <tr>\n",
       "      <th>892</th>\n",
       "      <td>0</td>\n",
       "      <td>3</td>\n",
       "      <td>Kelly, Mr. James</td>\n",
       "      <td>male</td>\n",
       "      <td>34.5</td>\n",
       "      <td>0</td>\n",
       "      <td>0</td>\n",
       "      <td>330911</td>\n",
       "      <td>7.8292</td>\n",
       "      <td>NaN</td>\n",
       "      <td>Q</td>\n",
       "    </tr>\n",
       "    <tr>\n",
       "      <th>893</th>\n",
       "      <td>1</td>\n",
       "      <td>3</td>\n",
       "      <td>Wilkes, Mrs. James (Ellen Needs)</td>\n",
       "      <td>female</td>\n",
       "      <td>47.0</td>\n",
       "      <td>1</td>\n",
       "      <td>0</td>\n",
       "      <td>363272</td>\n",
       "      <td>7.0000</td>\n",
       "      <td>NaN</td>\n",
       "      <td>S</td>\n",
       "    </tr>\n",
       "    <tr>\n",
       "      <th>894</th>\n",
       "      <td>0</td>\n",
       "      <td>2</td>\n",
       "      <td>Myles, Mr. Thomas Francis</td>\n",
       "      <td>male</td>\n",
       "      <td>62.0</td>\n",
       "      <td>0</td>\n",
       "      <td>0</td>\n",
       "      <td>240276</td>\n",
       "      <td>9.6875</td>\n",
       "      <td>NaN</td>\n",
       "      <td>Q</td>\n",
       "    </tr>\n",
       "    <tr>\n",
       "      <th>895</th>\n",
       "      <td>0</td>\n",
       "      <td>3</td>\n",
       "      <td>Wirz, Mr. Albert</td>\n",
       "      <td>male</td>\n",
       "      <td>27.0</td>\n",
       "      <td>0</td>\n",
       "      <td>0</td>\n",
       "      <td>315154</td>\n",
       "      <td>8.6625</td>\n",
       "      <td>NaN</td>\n",
       "      <td>S</td>\n",
       "    </tr>\n",
       "    <tr>\n",
       "      <th>896</th>\n",
       "      <td>1</td>\n",
       "      <td>3</td>\n",
       "      <td>Hirvonen, Mrs. Alexander (Helga E Lindqvist)</td>\n",
       "      <td>female</td>\n",
       "      <td>22.0</td>\n",
       "      <td>1</td>\n",
       "      <td>1</td>\n",
       "      <td>3101298</td>\n",
       "      <td>12.2875</td>\n",
       "      <td>NaN</td>\n",
       "      <td>S</td>\n",
       "    </tr>\n",
       "  </tbody>\n",
       "</table>\n",
       "</div>"
      ],
      "text/plain": [
       "             Survived  Pclass                                          Name  \\\n",
       "PassengerId                                                                   \n",
       "892                 0       3                              Kelly, Mr. James   \n",
       "893                 1       3              Wilkes, Mrs. James (Ellen Needs)   \n",
       "894                 0       2                     Myles, Mr. Thomas Francis   \n",
       "895                 0       3                              Wirz, Mr. Albert   \n",
       "896                 1       3  Hirvonen, Mrs. Alexander (Helga E Lindqvist)   \n",
       "\n",
       "                Sex   Age  SibSp  Parch   Ticket     Fare Cabin Embarked  \n",
       "PassengerId                                                               \n",
       "892            male  34.5      0      0   330911   7.8292   NaN        Q  \n",
       "893          female  47.0      1      0   363272   7.0000   NaN        S  \n",
       "894            male  62.0      0      0   240276   9.6875   NaN        Q  \n",
       "895            male  27.0      0      0   315154   8.6625   NaN        S  \n",
       "896          female  22.0      1      1  3101298  12.2875   NaN        S  "
      ]
     },
     "execution_count": 17,
     "metadata": {},
     "output_type": "execute_result"
    }
   ],
   "source": [
    "## Indexing and Selecting Data\n",
    "\n",
    "print(\"setting passengerID as Index\")\n",
    "df.set_index(\"PassengerId\", inplace=True)\n",
    "\n",
    "df.head()"
   ]
  },
  {
   "cell_type": "code",
   "execution_count": 18,
   "metadata": {},
   "outputs": [
    {
     "name": "stdout",
     "output_type": "stream",
     "text": [
      "selecting a specific column\n",
      "PassengerId\n",
      "892                                Kelly, Mr. James\n",
      "893                Wilkes, Mrs. James (Ellen Needs)\n",
      "894                       Myles, Mr. Thomas Francis\n",
      "895                                Wirz, Mr. Albert\n",
      "896    Hirvonen, Mrs. Alexander (Helga E Lindqvist)\n",
      "Name: Name, dtype: object\n"
     ]
    }
   ],
   "source": [
    "print(\"selecting a specific column\")\n",
    "print(df[\"Name\"].head())"
   ]
  },
  {
   "cell_type": "code",
   "execution_count": 20,
   "metadata": {},
   "outputs": [
    {
     "name": "stdout",
     "output_type": "stream",
     "text": [
      "Selecting rows using loc (label based)\n",
      "Empty DataFrame\n",
      "Columns: [Name, Survived]\n",
      "Index: []\n"
     ]
    }
   ],
   "source": [
    "print(\"Selecting rows using loc (label based)\")\n",
    "print(df.loc[1:5, [\"Name\", \"Survived\"]])"
   ]
  },
  {
   "cell_type": "code",
   "execution_count": 21,
   "metadata": {},
   "outputs": [
    {
     "name": "stdout",
     "output_type": "stream",
     "text": [
      "Selecting rows using iloc (position based)\n",
      "             Survived  Pclass                                          Name\n",
      "PassengerId                                                                \n",
      "892                 0       3                              Kelly, Mr. James\n",
      "893                 1       3              Wilkes, Mrs. James (Ellen Needs)\n",
      "894                 0       2                     Myles, Mr. Thomas Francis\n",
      "895                 0       3                              Wirz, Mr. Albert\n",
      "896                 1       3  Hirvonen, Mrs. Alexander (Helga E Lindqvist)\n"
     ]
    }
   ],
   "source": [
    "print(\"Selecting rows using iloc (position based)\")\n",
    "print(df.iloc[0:5,0:3])"
   ]
  },
  {
   "cell_type": "code",
   "execution_count": 22,
   "metadata": {},
   "outputs": [
    {
     "name": "stdout",
     "output_type": "stream",
     "text": [
      "Sorting data by age\n",
      "             Survived  Pclass                                     Name  \\\n",
      "PassengerId                                                              \n",
      "1246                1       3  Dean, Miss. Elizabeth Gladys Millvina\"\"   \n",
      "1093                0       3  Danbom, Master. Gilbert Sigvard Emanuel   \n",
      "1173                0       3           Peacock, Master. Alfred Edward   \n",
      "1199                0       3                Aks, Master. Philip Frank   \n",
      "1142                1       2                    West, Miss. Barbara J   \n",
      "\n",
      "                Sex   Age  SibSp  Parch              Ticket    Fare Cabin  \\\n",
      "PassengerId                                                                 \n",
      "1246         female  0.17      1      2           C.A. 2315  20.575   NaN   \n",
      "1093           male  0.33      0      2              347080  14.400   NaN   \n",
      "1173           male  0.75      1      1  SOTON/O.Q. 3101315  13.775   NaN   \n",
      "1199           male  0.83      0      1              392091   9.350   NaN   \n",
      "1142         female  0.92      1      2          C.A. 34651  27.750   NaN   \n",
      "\n",
      "            Embarked  \n",
      "PassengerId           \n",
      "1246               S  \n",
      "1093               S  \n",
      "1173               S  \n",
      "1199               S  \n",
      "1142               S  \n"
     ]
    }
   ],
   "source": [
    "# Sort Data\n",
    "print(\"Sorting data by age\")\n",
    "sorted_data = df.sort_values(by=\"Age\", ascending=True)\n",
    "print(sorted_data.head())"
   ]
  },
  {
   "cell_type": "code",
   "execution_count": 23,
   "metadata": {},
   "outputs": [
    {
     "name": "stdout",
     "output_type": "stream",
     "text": [
      "         Survived      Pclass         Age       SibSp       Parch        Fare\n",
      "count  418.000000  418.000000  332.000000  418.000000  418.000000  417.000000\n",
      "mean     0.363636    2.265550   30.272590    0.447368    0.392344   35.627188\n",
      "std      0.481622    0.841838   14.181209    0.896760    0.981429   55.907576\n",
      "min      0.000000    1.000000    0.170000    0.000000    0.000000    0.000000\n",
      "25%      0.000000    1.000000   21.000000    0.000000    0.000000    7.895800\n",
      "50%      0.000000    3.000000   27.000000    0.000000    0.000000   14.454200\n",
      "75%      1.000000    3.000000   39.000000    1.000000    0.000000   31.500000\n",
      "max      1.000000    3.000000   76.000000    8.000000    9.000000  512.329200\n"
     ]
    }
   ],
   "source": [
    "## Describing numerical attributes\n",
    "print(df.describe())"
   ]
  },
  {
   "cell_type": "code",
   "execution_count": 24,
   "metadata": {},
   "outputs": [
    {
     "name": "stdout",
     "output_type": "stream",
     "text": [
      "          Survived      Pclass                      Name   Sex         Age  \\\n",
      "count   418.000000  418.000000                       418   418  332.000000   \n",
      "unique         NaN         NaN                       418     2         NaN   \n",
      "top            NaN         NaN  Peter, Master. Michael J  male         NaN   \n",
      "freq           NaN         NaN                         1   266         NaN   \n",
      "mean      0.363636    2.265550                       NaN   NaN   30.272590   \n",
      "std       0.481622    0.841838                       NaN   NaN   14.181209   \n",
      "min       0.000000    1.000000                       NaN   NaN    0.170000   \n",
      "25%       0.000000    1.000000                       NaN   NaN   21.000000   \n",
      "50%       0.000000    3.000000                       NaN   NaN   27.000000   \n",
      "75%       1.000000    3.000000                       NaN   NaN   39.000000   \n",
      "max       1.000000    3.000000                       NaN   NaN   76.000000   \n",
      "\n",
      "             SibSp       Parch    Ticket        Fare            Cabin Embarked  \n",
      "count   418.000000  418.000000       418  417.000000               91      418  \n",
      "unique         NaN         NaN       363         NaN               76        3  \n",
      "top            NaN         NaN  PC 17608         NaN  B57 B59 B63 B66        S  \n",
      "freq           NaN         NaN         5         NaN                3      270  \n",
      "mean      0.447368    0.392344       NaN   35.627188              NaN      NaN  \n",
      "std       0.896760    0.981429       NaN   55.907576              NaN      NaN  \n",
      "min       0.000000    0.000000       NaN    0.000000              NaN      NaN  \n",
      "25%       0.000000    0.000000       NaN    7.895800              NaN      NaN  \n",
      "50%       0.000000    0.000000       NaN   14.454200              NaN      NaN  \n",
      "75%       1.000000    0.000000       NaN   31.500000              NaN      NaN  \n",
      "max       8.000000    9.000000       NaN  512.329200              NaN      NaN  \n"
     ]
    }
   ],
   "source": [
    "## Describing all attributes, including categorical\n",
    "print(df.describe(include=\"all\"))"
   ]
  },
  {
   "cell_type": "code",
   "execution_count": 25,
   "metadata": {},
   "outputs": [
    {
     "name": "stdout",
     "output_type": "stream",
     "text": [
      "<class 'pandas.core.frame.DataFrame'>\n",
      "Index: 418 entries, 892 to 1309\n",
      "Data columns (total 11 columns):\n",
      " #   Column    Non-Null Count  Dtype  \n",
      "---  ------    --------------  -----  \n",
      " 0   Survived  418 non-null    int64  \n",
      " 1   Pclass    418 non-null    int64  \n",
      " 2   Name      418 non-null    object \n",
      " 3   Sex       418 non-null    object \n",
      " 4   Age       332 non-null    float64\n",
      " 5   SibSp     418 non-null    int64  \n",
      " 6   Parch     418 non-null    int64  \n",
      " 7   Ticket    418 non-null    object \n",
      " 8   Fare      417 non-null    float64\n",
      " 9   Cabin     91 non-null     object \n",
      " 10  Embarked  418 non-null    object \n",
      "dtypes: float64(2), int64(4), object(5)\n",
      "memory usage: 55.4+ KB\n",
      "None\n"
     ]
    }
   ],
   "source": [
    "## Checking dataset structure and memory usage\n",
    "print(df.info())"
   ]
  },
  {
   "cell_type": "code",
   "execution_count": 26,
   "metadata": {},
   "outputs": [
    {
     "name": "stdout",
     "output_type": "stream",
     "text": [
      "Survived      int64\n",
      "Pclass        int64\n",
      "Name         object\n",
      "Sex          object\n",
      "Age         float64\n",
      "SibSp         int64\n",
      "Parch         int64\n",
      "Ticket       object\n",
      "Fare        float64\n",
      "Cabin        object\n",
      "Embarked     object\n",
      "dtype: object\n"
     ]
    }
   ],
   "source": [
    "## Displaying data types of all columns\n",
    "print(df.dtypes)"
   ]
  },
  {
   "cell_type": "code",
   "execution_count": null,
   "metadata": {},
   "outputs": [],
   "source": []
  }
 ],
 "metadata": {
  "kernelspec": {
   "display_name": "Python 3",
   "language": "python",
   "name": "python3"
  },
  "language_info": {
   "codemirror_mode": {
    "name": "ipython",
    "version": 3
   },
   "file_extension": ".py",
   "mimetype": "text/x-python",
   "name": "python",
   "nbconvert_exporter": "python",
   "pygments_lexer": "ipython3",
   "version": "3.12.7"
  }
 },
 "nbformat": 4,
 "nbformat_minor": 2
}
