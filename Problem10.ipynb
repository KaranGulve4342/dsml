{
 "cells": [
  {
   "cell_type": "code",
   "execution_count": 1,
   "metadata": {},
   "outputs": [],
   "source": [
    "# Write a program to do the following. You have given a collection of 8 points P1=[2,10] P2=[2, 5] P3=[8, 4] P4=[5, 8] P5=[7,5] P6=[6, 4] P7=[1, 2] P8=[4,9]. Perform the K-means clustering with initial centroids as m1=P1=Cluster1=C1 m2=P4=cluster#2=C2, m3=P7 =Cluster#3=C3. Answer the following 1] Which cluster does P6 belong to? \n",
    "# 2] What is the population of a cluster around m3\n",
    "# 3] What is the updated value of m1, m2, m3"
   ]
  },
  {
   "cell_type": "code",
   "execution_count": 2,
   "metadata": {},
   "outputs": [],
   "source": [
    "import numpy as np"
   ]
  },
  {
   "cell_type": "code",
   "execution_count": 3,
   "metadata": {},
   "outputs": [],
   "source": [
    "points = np.array([\n",
    "    [2, 10],\n",
    "    [2, 5],\n",
    "    [8, 4],\n",
    "    [5, 8],\n",
    "    [7, 5],\n",
    "    [7, 5],\n",
    "    [6, 4],\n",
    "    [1, 2],\n",
    "    [4, 9]\n",
    "])\n",
    "\n",
    "m1 = points[0]\n",
    "m2 = points[3]\n",
    "m3 = points[6]"
   ]
  },
  {
   "cell_type": "code",
   "execution_count": 22,
   "metadata": {},
   "outputs": [
    {
     "name": "stdout",
     "output_type": "stream",
     "text": [
      "1] P6 belongs to Cluster: 3\n",
      "2] Population of Cluster 3 (around m3) : 6\n",
      "3] Updated values:\n",
      " m1: [ 2. 10.]\n",
      " m2: [4.5 8.5]\n",
      " m3: [5.16666667 4.16666667]\n"
     ]
    }
   ],
   "source": [
    "## Calculate the Euclidean Distance\n",
    "def euclidean_distance(point, centroid):\n",
    "    return np.sqrt(np.sum((point-centroid)**2))\n",
    "\n",
    "def k_mean(points, m1, m2, m3, max_iteration=10):\n",
    "    for iteration in range(max_iteration):\n",
    "        clusters = {1:[],2:[],3:[]}\n",
    "\n",
    "        for point in points:\n",
    "            dist1 = euclidean_distance(point, m1)\n",
    "            dist2 = euclidean_distance(point, m2)\n",
    "            dist3 = euclidean_distance(point, m3)\n",
    "\n",
    "            if dist1 < dist2 and dist1 < dist3:\n",
    "                clusters[1].append(point)\n",
    "            elif dist2 < dist3:\n",
    "                clusters[2].append(point)\n",
    "            else:\n",
    "                clusters[3].append(point)\n",
    "        \n",
    "        new_m1 = np.mean(clusters[1],axis=0) if clusters[1] else m1\n",
    "        new_m2 = np.mean(clusters[2],axis=0) if clusters[2] else m2\n",
    "        new_m3 = np.mean(clusters[3],axis=0) if clusters[3] else m3\n",
    "\n",
    "        if np.allclose(new_m1, m1) and np.allclose(new_m2, m2) and np.allclose(new_m3, m3):\n",
    "            break\n",
    "        \n",
    "        m1, m2, m3 = new_m1, new_m2, new_m3\n",
    "\n",
    "        return clusters, m1, m2, m3\n",
    "\n",
    "clusters,updated_m1,updated_m2,updated_m3 = k_mean(points,m1,m2,m3,10)\n",
    "\n",
    "\n",
    "# 1. To which cluster does P6 cluster belongs\n",
    "p6_cluster = None\n",
    "p6 = points[5]\n",
    "\n",
    "for cluster_id, cluster_points in clusters.items():\n",
    "    for point in cluster_points:\n",
    "        if np.array_equal(p6, point):\n",
    "            p6_cluster = cluster_id\n",
    "            break\n",
    "        if p6_cluster:\n",
    "            break\n",
    "\n",
    "print(f\"1] P6 belongs to Cluster: {p6_cluster}\")\n",
    "\n",
    "# Population of cluster around m3\n",
    "population_m3 = len(clusters[3])\n",
    "print(f\"2] Population of Cluster 3 (around m3) : {population_m3}\")\n",
    "\n",
    "# What are the updated values of m1, m2, m3\n",
    "print(f\"3] Updated values:\\n m1: {updated_m1}\\n m2: {updated_m2}\\n m3: {updated_m3}\")"
   ]
  },
  {
   "cell_type": "code",
   "execution_count": null,
   "metadata": {},
   "outputs": [],
   "source": [
    " "
   ]
  }
 ],
 "metadata": {
  "kernelspec": {
   "display_name": "Python 3",
   "language": "python",
   "name": "python3"
  },
  "language_info": {
   "codemirror_mode": {
    "name": "ipython",
    "version": 3
   },
   "file_extension": ".py",
   "mimetype": "text/x-python",
   "name": "python",
   "nbconvert_exporter": "python",
   "pygments_lexer": "ipython3",
   "version": "3.12.7"
  }
 },
 "nbformat": 4,
 "nbformat_minor": 2
}
