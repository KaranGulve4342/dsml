{
 "cells": [
  {
   "cell_type": "code",
   "execution_count": 1,
   "metadata": {},
   "outputs": [],
   "source": [
    "## Use House_Price prediction dataset. Provide summary statistics (mean, median, minimum, maximum, standard deviation) of variables (categorical vs quantitative) such as- For example, if categorical variable is age groups and quantitative variable is income, then provide summary statistics of income grouped by the age groups.\n"
   ]
  },
  {
   "cell_type": "code",
   "execution_count": 2,
   "metadata": {},
   "outputs": [],
   "source": [
    "import pandas as pd\n",
    "import numpy as np\n",
    "import matplotlib.pyplot as plt"
   ]
  },
  {
   "cell_type": "code",
   "execution_count": 3,
   "metadata": {},
   "outputs": [],
   "source": [
    "data = pd.read_csv(r\"C:\\Users\\KARAN\\Downloads\\DSML_PRACTICAL\\DSML_PRACTICAL\\Datasets\\House Data.csv\")"
   ]
  },
  {
   "cell_type": "code",
   "execution_count": 4,
   "metadata": {},
   "outputs": [
    {
     "data": {
      "text/html": [
       "<div>\n",
       "<style scoped>\n",
       "    .dataframe tbody tr th:only-of-type {\n",
       "        vertical-align: middle;\n",
       "    }\n",
       "\n",
       "    .dataframe tbody tr th {\n",
       "        vertical-align: top;\n",
       "    }\n",
       "\n",
       "    .dataframe thead th {\n",
       "        text-align: right;\n",
       "    }\n",
       "</style>\n",
       "<table border=\"1\" class=\"dataframe\">\n",
       "  <thead>\n",
       "    <tr style=\"text-align: right;\">\n",
       "      <th></th>\n",
       "      <th>Unnamed: 0</th>\n",
       "      <th>district</th>\n",
       "      <th>price</th>\n",
       "      <th>address</th>\n",
       "      <th>AdUpdateDate</th>\n",
       "      <th>Category</th>\n",
       "      <th>GrossSquareMeters</th>\n",
       "      <th>BuildingAge</th>\n",
       "      <th>NumberFloorsofBuilding</th>\n",
       "      <th>UsingStatus</th>\n",
       "      <th>...</th>\n",
       "      <th>PriceStatus</th>\n",
       "      <th>RentalIncome</th>\n",
       "      <th>NumberOfBalconies</th>\n",
       "      <th>BalconyType</th>\n",
       "      <th>HallSquareMeters</th>\n",
       "      <th>WCSquareMeters</th>\n",
       "      <th>IsItVideoNavigable?</th>\n",
       "      <th>Subscription</th>\n",
       "      <th>BathroomSquareMeters</th>\n",
       "      <th>BalconySquareMeters</th>\n",
       "    </tr>\n",
       "  </thead>\n",
       "  <tbody>\n",
       "    <tr>\n",
       "      <th>0</th>\n",
       "      <td>0</td>\n",
       "      <td>adalar</td>\n",
       "      <td>3,100,000TL</td>\n",
       "      <td>['Anasayfa', 'Satılık Daire', 'İstanbul Satılı...</td>\n",
       "      <td>24 Şubat 2022</td>\n",
       "      <td>Satılık</td>\n",
       "      <td>160 m2</td>\n",
       "      <td>21 Ve Üzeri</td>\n",
       "      <td>3</td>\n",
       "      <td>Mülk Sahibi Oturuyor</td>\n",
       "      <td>...</td>\n",
       "      <td>Genel Fiyat</td>\n",
       "      <td>NaN</td>\n",
       "      <td>NaN</td>\n",
       "      <td>NaN</td>\n",
       "      <td>NaN</td>\n",
       "      <td>NaN</td>\n",
       "      <td>NaN</td>\n",
       "      <td>NaN</td>\n",
       "      <td>NaN</td>\n",
       "      <td>NaN</td>\n",
       "    </tr>\n",
       "    <tr>\n",
       "      <th>1</th>\n",
       "      <td>1</td>\n",
       "      <td>adalar</td>\n",
       "      <td>1,600,000TL</td>\n",
       "      <td>['Anasayfa', 'Satılık Daire', 'İstanbul Satılı...</td>\n",
       "      <td>02 Mart 2022</td>\n",
       "      <td>Satılık</td>\n",
       "      <td>120 m2</td>\n",
       "      <td>5-10</td>\n",
       "      <td>3</td>\n",
       "      <td>Mülk Sahibi Oturuyor</td>\n",
       "      <td>...</td>\n",
       "      <td>Genel Fiyat</td>\n",
       "      <td>NaN</td>\n",
       "      <td>NaN</td>\n",
       "      <td>NaN</td>\n",
       "      <td>NaN</td>\n",
       "      <td>NaN</td>\n",
       "      <td>NaN</td>\n",
       "      <td>NaN</td>\n",
       "      <td>NaN</td>\n",
       "      <td>NaN</td>\n",
       "    </tr>\n",
       "    <tr>\n",
       "      <th>2</th>\n",
       "      <td>2</td>\n",
       "      <td>adalar</td>\n",
       "      <td>18,500,000TL</td>\n",
       "      <td>['Anasayfa', 'Satılık Müstakil Ev', 'İstanbul ...</td>\n",
       "      <td>11 Şubat 2022</td>\n",
       "      <td>Satılık</td>\n",
       "      <td>350 m2</td>\n",
       "      <td>21 Ve Üzeri</td>\n",
       "      <td>2</td>\n",
       "      <td>Mülk Sahibi Oturuyor</td>\n",
       "      <td>...</td>\n",
       "      <td>Genel Fiyat</td>\n",
       "      <td>NaN</td>\n",
       "      <td>NaN</td>\n",
       "      <td>NaN</td>\n",
       "      <td>NaN</td>\n",
       "      <td>NaN</td>\n",
       "      <td>NaN</td>\n",
       "      <td>NaN</td>\n",
       "      <td>NaN</td>\n",
       "      <td>NaN</td>\n",
       "    </tr>\n",
       "    <tr>\n",
       "      <th>3</th>\n",
       "      <td>3</td>\n",
       "      <td>adalar</td>\n",
       "      <td>9,500,000TL</td>\n",
       "      <td>['Anasayfa', 'Satılık Bina', 'İstanbul Satılık...</td>\n",
       "      <td>11 Şubat 2022</td>\n",
       "      <td>Satılık</td>\n",
       "      <td>550 m2</td>\n",
       "      <td>11-15</td>\n",
       "      <td>3</td>\n",
       "      <td>Mülk Sahibi Oturuyor</td>\n",
       "      <td>...</td>\n",
       "      <td>Genel Fiyat</td>\n",
       "      <td>NaN</td>\n",
       "      <td>NaN</td>\n",
       "      <td>NaN</td>\n",
       "      <td>NaN</td>\n",
       "      <td>NaN</td>\n",
       "      <td>NaN</td>\n",
       "      <td>NaN</td>\n",
       "      <td>NaN</td>\n",
       "      <td>NaN</td>\n",
       "    </tr>\n",
       "    <tr>\n",
       "      <th>4</th>\n",
       "      <td>4</td>\n",
       "      <td>adalar</td>\n",
       "      <td>25,000,000TL</td>\n",
       "      <td>['Anasayfa', 'Satılık Köşk', 'İstanbul Satılık...</td>\n",
       "      <td>19 Ocak 2022</td>\n",
       "      <td>Satılık</td>\n",
       "      <td>840 m2</td>\n",
       "      <td>21 Ve Üzeri</td>\n",
       "      <td>4</td>\n",
       "      <td>Boş</td>\n",
       "      <td>...</td>\n",
       "      <td>Genel Fiyat</td>\n",
       "      <td>NaN</td>\n",
       "      <td>NaN</td>\n",
       "      <td>NaN</td>\n",
       "      <td>NaN</td>\n",
       "      <td>NaN</td>\n",
       "      <td>NaN</td>\n",
       "      <td>NaN</td>\n",
       "      <td>NaN</td>\n",
       "      <td>NaN</td>\n",
       "    </tr>\n",
       "  </tbody>\n",
       "</table>\n",
       "<p>5 rows × 38 columns</p>\n",
       "</div>"
      ],
      "text/plain": [
       "   Unnamed: 0 district         price  \\\n",
       "0           0   adalar   3,100,000TL   \n",
       "1           1   adalar   1,600,000TL   \n",
       "2           2   adalar  18,500,000TL   \n",
       "3           3   adalar   9,500,000TL   \n",
       "4           4   adalar  25,000,000TL   \n",
       "\n",
       "                                             address   AdUpdateDate Category  \\\n",
       "0  ['Anasayfa', 'Satılık Daire', 'İstanbul Satılı...  24 Şubat 2022  Satılık   \n",
       "1  ['Anasayfa', 'Satılık Daire', 'İstanbul Satılı...   02 Mart 2022  Satılık   \n",
       "2  ['Anasayfa', 'Satılık Müstakil Ev', 'İstanbul ...  11 Şubat 2022  Satılık   \n",
       "3  ['Anasayfa', 'Satılık Bina', 'İstanbul Satılık...  11 Şubat 2022  Satılık   \n",
       "4  ['Anasayfa', 'Satılık Köşk', 'İstanbul Satılık...   19 Ocak 2022  Satılık   \n",
       "\n",
       "  GrossSquareMeters  BuildingAge  NumberFloorsofBuilding  \\\n",
       "0            160 m2  21 Ve Üzeri                       3   \n",
       "1            120 m2         5-10                       3   \n",
       "2            350 m2  21 Ve Üzeri                       2   \n",
       "3            550 m2        11-15                       3   \n",
       "4            840 m2  21 Ve Üzeri                       4   \n",
       "\n",
       "            UsingStatus  ...  PriceStatus RentalIncome NumberOfBalconies  \\\n",
       "0  Mülk Sahibi Oturuyor  ...  Genel Fiyat          NaN               NaN   \n",
       "1  Mülk Sahibi Oturuyor  ...  Genel Fiyat          NaN               NaN   \n",
       "2  Mülk Sahibi Oturuyor  ...  Genel Fiyat          NaN               NaN   \n",
       "3  Mülk Sahibi Oturuyor  ...  Genel Fiyat          NaN               NaN   \n",
       "4                   Boş  ...  Genel Fiyat          NaN               NaN   \n",
       "\n",
       "  BalconyType HallSquareMeters WCSquareMeters IsItVideoNavigable?  \\\n",
       "0         NaN              NaN            NaN                 NaN   \n",
       "1         NaN              NaN            NaN                 NaN   \n",
       "2         NaN              NaN            NaN                 NaN   \n",
       "3         NaN              NaN            NaN                 NaN   \n",
       "4         NaN              NaN            NaN                 NaN   \n",
       "\n",
       "  Subscription BathroomSquareMeters BalconySquareMeters  \n",
       "0          NaN                  NaN                 NaN  \n",
       "1          NaN                  NaN                 NaN  \n",
       "2          NaN                  NaN                 NaN  \n",
       "3          NaN                  NaN                 NaN  \n",
       "4          NaN                  NaN                 NaN  \n",
       "\n",
       "[5 rows x 38 columns]"
      ]
     },
     "execution_count": 4,
     "metadata": {},
     "output_type": "execute_result"
    }
   ],
   "source": [
    "data.head()"
   ]
  },
  {
   "cell_type": "code",
   "execution_count": 6,
   "metadata": {},
   "outputs": [],
   "source": [
    "data.drop(['Unnamed: 0'], axis=1, inplace=True)"
   ]
  },
  {
   "cell_type": "code",
   "execution_count": 7,
   "metadata": {},
   "outputs": [
    {
     "name": "stdout",
     "output_type": "stream",
     "text": [
      "Dataset Information : \n",
      "<class 'pandas.core.frame.DataFrame'>\n",
      "RangeIndex: 25155 entries, 0 to 25154\n",
      "Data columns (total 37 columns):\n",
      " #   Column                    Non-Null Count  Dtype \n",
      "---  ------                    --------------  ----- \n",
      " 0   district                  25155 non-null  object\n",
      " 1   price                     25155 non-null  object\n",
      " 2   address                   25155 non-null  object\n",
      " 3   AdUpdateDate              25155 non-null  object\n",
      " 4   Category                  25155 non-null  object\n",
      " 5   GrossSquareMeters         25155 non-null  object\n",
      " 6   BuildingAge               25155 non-null  object\n",
      " 7   NumberFloorsofBuilding    25155 non-null  int64 \n",
      " 8   UsingStatus               25155 non-null  object\n",
      " 9   EligibilityForInvestment  21506 non-null  object\n",
      " 10  BuildStatus               11231 non-null  object\n",
      " 11  TitleStatus               9712 non-null   object\n",
      " 12  ItemStatus                18332 non-null  object\n",
      " 13  NumberOfBathrooms         25155 non-null  object\n",
      " 14  NumberOfWCs               8129 non-null   object\n",
      " 15  AdCreationDate            25155 non-null  object\n",
      " 16  Type                      25155 non-null  object\n",
      " 17  NetSquareMeters           25155 non-null  object\n",
      " 18  NumberOfRooms             25155 non-null  object\n",
      " 19  FloorLocation             25155 non-null  object\n",
      " 20  HeatingType               25155 non-null  object\n",
      " 21  CreditEligibility         25155 non-null  object\n",
      " 22  InsideTheSite             25155 non-null  object\n",
      " 23  StructureType             10406 non-null  object\n",
      " 24  MortgageStatus            6058 non-null   object\n",
      " 25  Swap                      20839 non-null  object\n",
      " 26  Balcony                   9109 non-null   object\n",
      " 27  PriceStatus               25155 non-null  object\n",
      " 28  RentalIncome              5815 non-null   object\n",
      " 29  NumberOfBalconies         5324 non-null   object\n",
      " 30  BalconyType               4720 non-null   object\n",
      " 31  HallSquareMeters          1433 non-null   object\n",
      " 32  WCSquareMeters            865 non-null    object\n",
      " 33  IsItVideoNavigable?       5481 non-null   object\n",
      " 34  Subscription              4488 non-null   object\n",
      " 35  BathroomSquareMeters      1112 non-null   object\n",
      " 36  BalconySquareMeters       1040 non-null   object\n",
      "dtypes: int64(1), object(36)\n",
      "memory usage: 7.1+ MB\n",
      "None\n"
     ]
    }
   ],
   "source": [
    "print(\"Dataset Information : \")\n",
    "print(data.info())"
   ]
  },
  {
   "cell_type": "code",
   "execution_count": 8,
   "metadata": {},
   "outputs": [],
   "source": [
    "## Compute statistics for each numerical features\n",
    "numerical_features = data.select_dtypes(include=[np.number]) ## select only numerical columns"
   ]
  },
  {
   "cell_type": "code",
   "execution_count": 9,
   "metadata": {},
   "outputs": [
    {
     "name": "stdout",
     "output_type": "stream",
     "text": [
      "\n",
      "Standard Deviation : \n",
      "NumberFloorsofBuilding    6.952397\n",
      "dtype: float64\n"
     ]
    }
   ],
   "source": [
    "## Standard Deviation\n",
    "std_dev = numerical_features.std()\n",
    "print(\"\\nStandard Deviation : \")\n",
    "print(std_dev)"
   ]
  },
  {
   "cell_type": "code",
   "execution_count": 10,
   "metadata": {},
   "outputs": [
    {
     "name": "stdout",
     "output_type": "stream",
     "text": [
      "\n",
      "Variance : \n",
      "NumberFloorsofBuilding    48.335818\n",
      "dtype: float64\n"
     ]
    }
   ],
   "source": [
    "## Variance\n",
    "variance = numerical_features.var()\n",
    "print(\"\\nVariance : \")\n",
    "print(variance)"
   ]
  },
  {
   "cell_type": "code",
   "execution_count": 11,
   "metadata": {},
   "outputs": [
    {
     "name": "stdout",
     "output_type": "stream",
     "text": [
      "NumberFloorsofBuilding    6.952397\n",
      "dtype: float64\n"
     ]
    }
   ],
   "source": [
    "print(np.sqrt(variance))"
   ]
  },
  {
   "cell_type": "code",
   "execution_count": 12,
   "metadata": {},
   "outputs": [
    {
     "name": "stdout",
     "output_type": "stream",
     "text": [
      "\n",
      "Percentiles : \n",
      "      NumberFloorsofBuilding\n",
      "0.25                     4.0\n",
      "0.50                     5.0\n",
      "0.75                     8.0\n"
     ]
    }
   ],
   "source": [
    "percentiles = numerical_features.quantile([0.25, 0.5, 0.75])\n",
    "print(\"\\nPercentiles : \")\n",
    "print(percentiles)"
   ]
  },
  {
   "cell_type": "code",
   "execution_count": 13,
   "metadata": {},
   "outputs": [
    {
     "data": {
      "image/png": "[encoded data removed]",
      "text/plain": [
       "<Figure size 800x600 with 1 Axes>"
      ]
     },
     "metadata": {},
     "output_type": "display_data"
    }
   ],
   "source": [
    "## Create Histogram for each feature\n",
    "\n",
    "for column in numerical_features.columns:\n",
    "    plt.figure(figsize=(8,6))\n",
    "    plt.hist(data[column], bins=30, color='blue', alpha=0.7, edgecolor='black')\n",
    "    plt.title(f\"Histogram of {column}\")\n",
    "    plt.xlabel(column)\n",
    "    plt.ylabel('Frequency')\n",
    "    plt.grid(axis='y', alpha=0.75)\n",
    "    plt.show()"
   ]
  },
  {
   "cell_type": "code",
   "execution_count": 14,
   "metadata": {},
   "outputs": [
    {
     "data": {
      "text/plain": [
       "count           25155\n",
       "unique           2825\n",
       "top       1,350,000TL\n",
       "freq              371\n",
       "Name: price, dtype: object"
      ]
     },
     "execution_count": 14,
     "metadata": {},
     "output_type": "execute_result"
    }
   ],
   "source": [
    "data['price'].describe()"
   ]
  },
  {
   "cell_type": "code",
   "execution_count": 15,
   "metadata": {},
   "outputs": [
    {
     "name": "stderr",
     "output_type": "stream",
     "text": [
      "<>:1: SyntaxWarning: invalid escape sequence '\\d'\n",
      "<>:1: SyntaxWarning: invalid escape sequence '\\d'\n",
      "C:\\Users\\KARAN\\AppData\\Local\\Temp\\ipykernel_11352\\2304725746.py:1: SyntaxWarning: invalid escape sequence '\\d'\n",
      "  data['price'] = data['price'].str.replace(\"TL\", \"\").str.replace(\",\", \"\").str.extract('(\\d+\\.?\\d*)').astype(float)\n"
     ]
    }
   ],
   "source": [
    "data['price'] = data['price'].str.replace(\"TL\", \"\").str.replace(\",\", \"\").str.extract('(\\d+\\.?\\d*)').astype(float)\n",
    "data['GrossSquareMeters'] = data['GrossSquareMeters'].str.replace(\" m2\", \"\").astype(float)"
   ]
  },
  {
   "cell_type": "code",
   "execution_count": 16,
   "metadata": {},
   "outputs": [],
   "source": [
    "## Group by BuildingAge (categorical variables)\n",
    "\n",
    "grouped = data.groupby(\"BuildingAge\")"
   ]
  },
  {
   "cell_type": "code",
   "execution_count": 17,
   "metadata": {},
   "outputs": [
    {
     "name": "stdout",
     "output_type": "stream",
     "text": [
      "Summary statistics for price grouped by Building age:\n",
      "                     mean     median       min           max           std\n",
      "BuildingAge                                                               \n",
      "0 (Yeni)     2.716895e+06  1350000.0   20000.0  2.730000e+08  5.959061e+06\n",
      "1            3.001356e+06  1372500.0   99999.0  1.100000e+08  5.774246e+06\n",
      "11-15        7.094360e+06  1345000.0   35000.0  2.000000e+09  5.694029e+07\n",
      "16-20        5.711826e+06  1100000.0   85000.0  1.250000e+09  4.588972e+07\n",
      "2            4.596764e+06  1475000.0  285000.0  1.750000e+09  5.648079e+07\n",
      "20 Ve Üzeri  9.250000e+05   925000.0  925000.0  9.250000e+05           NaN\n",
      "21 Ve Üzeri  6.688592e+06  1300000.0   22222.0  7.610000e+08  3.794103e+07\n",
      "3            3.118105e+06  1450000.0  240000.0  2.150000e+08  1.010505e+07\n",
      "4            3.418548e+06  1390000.0  200000.0  7.390000e+08  1.711159e+07\n",
      "5-10         7.207567e+06  1400000.0   75000.0  1.600000e+10  2.266947e+08\n"
     ]
    }
   ],
   "source": [
    "summary_stats = grouped[\"price\"].agg([\"mean\", \"median\", \"min\", \"max\", \"std\"])\n",
    "print(\"Summary statistics for price grouped by Building age:\")\n",
    "print(summary_stats)"
   ]
  },
  {
   "cell_type": "code",
   "execution_count": 18,
   "metadata": {},
   "outputs": [
    {
     "name": "stdout",
     "output_type": "stream",
     "text": [
      "\n",
      "Summary Statistics for Gross Square Meters Grouped by BuildingAge:\n",
      "                   mean  median    min    max         std\n",
      "BuildingAge                                              \n",
      "0 (Yeni)     136.602006   117.0    1.0  900.0   76.126454\n",
      "1            132.202228   115.0    1.0  964.0   83.619545\n",
      "11-15        185.431727   135.0    1.0  980.0  144.136871\n",
      "16-20        171.859845   130.0    1.0  900.0  115.007465\n",
      "2            134.186162   115.0    1.0  900.0   74.916558\n",
      "20 Ve Üzeri  127.000000   127.0  127.0  127.0         NaN\n",
      "21 Ve Üzeri  161.975347   130.0    1.0  990.0  124.138566\n",
      "3            139.067293   120.0    1.0  851.0   84.371199\n",
      "4            136.062111   120.0    1.0  760.0   70.623525\n",
      "5-10         148.980741   124.0    1.0  976.0  100.203823\n"
     ]
    }
   ],
   "source": [
    "## Summary statistics for GrossSquareMeters grouped by BuildingAge\n",
    "\n",
    "square_meter_stats = grouped['GrossSquareMeters'].agg([\"mean\", \"median\", \"min\", \"max\",\"std\"])\n",
    "print(\"\\nSummary Statistics for Gross Square Meters Grouped by BuildingAge:\")\n",
    "print(square_meter_stats)"
   ]
  },
  {
   "cell_type": "code",
   "execution_count": null,
   "metadata": {},
   "outputs": [],
   "source": []
  }
 ],
 "metadata": {
  "kernelspec": {
   "display_name": "Python 3",
   "language": "python",
   "name": "python3"
  },
  "language_info": {
   "codemirror_mode": {
    "name": "ipython",
    "version": 3
   },
   "file_extension": ".py",
   "mimetype": "text/x-python",
   "name": "python",
   "nbconvert_exporter": "python",
   "pygments_lexer": "ipython3",
   "version": "3.12.7"
  }
 },
 "nbformat": 4,
 "nbformat_minor": 2
}
