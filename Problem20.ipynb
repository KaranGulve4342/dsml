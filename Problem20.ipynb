{
 "cells": [
  {
   "cell_type": "code",
   "execution_count": null,
   "metadata": {},
   "outputs": [],
   "source": [
    "# Write a program to cluster a set of points using K-means for IRIS dataset. Consider, K=3, clusters. Consider Euclidean distance as the distance measure. Randomly initialize a cluster mean as one of the data points. Iterate at least for 10 iterations. After iterations are over, print the final cluster means for each of the clusters."
   ]
  },
  {
   "cell_type": "code",
   "execution_count": 1,
   "metadata": {},
   "outputs": [],
   "source": [
    "import pandas as pd\n",
    "import seaborn as sns\n",
    "import matplotlib.pyplot as plt\n",
    "import numpy as np"
   ]
  },
  {
   "cell_type": "code",
   "execution_count": 2,
   "metadata": {},
   "outputs": [],
   "source": [
    "data = pd.read_csv(r\"C:\\Users\\KARAN\\Downloads\\DSML_PRACTICAL\\DSML_PRACTICAL\\Datasets\\IRIS.csv\")"
   ]
  },
  {
   "cell_type": "code",
   "execution_count": 3,
   "metadata": {},
   "outputs": [],
   "source": [
    "# Number of clusters and Iterations\n",
    "\n",
    "K = 3\n",
    "iterations = 10\n",
    "\n",
    "# Ensure K is less than or equal to the number of rows in the dataframe\n",
    "# Ensure K is valid\n",
    "if K > len(data):\n",
    "    raise ValueError(\"Number of clusters K cannot be greater than the number of data points\")"
   ]
  },
  {
   "cell_type": "code",
   "execution_count": 4,
   "metadata": {},
   "outputs": [],
   "source": [
    "# Randomly Initialize cluster means using .sample to avoid index mismatch\n",
    "np.random.seed(42)  # For reproducibility\n",
    "initial_means = data.sample(n=K, replace=False, random_state=42).values\n",
    "cluster_means = initial_means"
   ]
  },
  {
   "cell_type": "code",
   "execution_count": 5,
   "metadata": {},
   "outputs": [],
   "source": [
    "## Function to compute Euclidean Distance\n",
    "\n",
    "def euclidean_distance(point1, point2):\n",
    "    return np.sqrt(np.sum((point1 - point2) ** 2))"
   ]
  },
  {
   "cell_type": "code",
   "execution_count": 6,
   "metadata": {},
   "outputs": [],
   "source": [
    "# Ensure numerical data consistency\n",
    "numerical_data = data.select_dtypes(include=[np.number])\n",
    "\n",
    "# Initialize cluster means\n",
    "cluster_means = numerical_data.sample(n=K, random_state=42).values\n",
    "\n",
    "for i in range(iterations):\n",
    "    # Assign each point to the nearest cluster\n",
    "    clusters = []\n",
    "    for index, point in numerical_data.iterrows():\n",
    "        distances = [euclidean_distance(point.values, mean) for mean in cluster_means]\n",
    "        cluster = np.argmin(distances)\n",
    "        clusters.append(cluster)\n",
    "\n",
    "    # Update cluster means\n",
    "    new_means = []\n",
    "    for k in range(K):\n",
    "        cluster_points = numerical_data.iloc[np.where(np.array(clusters) == k)]\n",
    "        if not cluster_points.empty:\n",
    "            new_mean = cluster_points.mean().values\n",
    "        else:\n",
    "            new_mean = cluster_means[k]\n",
    "        new_means.append(new_mean)\n",
    "\n",
    "    cluster_means = np.array(new_means)\n"
   ]
  },
  {
   "cell_type": "code",
   "execution_count": 7,
   "metadata": {},
   "outputs": [
    {
     "name": "stdout",
     "output_type": "stream",
     "text": [
      "Final Cluster Means after 10 Iterations: \n",
      "Cluster 1: [5.9016129  2.7483871  4.39354839 1.43387097]\n",
      "Cluster 2: [5.006 3.418 1.464 0.244]\n",
      "Cluster 3: [6.85       3.07368421 5.74210526 2.07105263]\n"
     ]
    }
   ],
   "source": [
    "## Print Final Cluster Means\n",
    "\n",
    "print(\"Final Cluster Means after 10 Iterations: \")\n",
    "for idx, mean in enumerate(cluster_means):\n",
    "    print(f\"Cluster {idx + 1}: {mean}\")"
   ]
  },
  {
   "cell_type": "code",
   "execution_count": null,
   "metadata": {},
   "outputs": [],
   "source": []
  }
 ],
 "metadata": {
  "kernelspec": {
   "display_name": "Python 3",
   "language": "python",
   "name": "python3"
  },
  "language_info": {
   "codemirror_mode": {
    "name": "ipython",
    "version": 3
   },
   "file_extension": ".py",
   "mimetype": "text/x-python",
   "name": "python",
   "nbconvert_exporter": "python",
   "pygments_lexer": "ipython3",
   "version": "3.12.7"
  }
 },
 "nbformat": 4,
 "nbformat_minor": 2
}
