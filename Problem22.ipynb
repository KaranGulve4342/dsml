{
 "cells": [
  {
   "cell_type": "code",
   "execution_count": null,
   "metadata": {},
   "outputs": [],
   "source": [
    "# #  Compute Accuracy, Error rate, Precision, Recall for the following confusion matrix\n",
    "\n",
    "#  Compute Accuracy, Error rate, Precision, Recall for the following\n",
    "#  confusion matrix.\n",
    "#  Actual Class\\Predicted\n",
    "#  class\n",
    "#  cancer = yes\n",
    "#  cancer = no\n",
    "#  Total\n",
    "#  cancer =\n",
    "#  yes\n",
    "#  90\n",
    "#  140\n",
    "#  230\n",
    "#  cancer = no\n",
    "#  210\n",
    "#  9560\n",
    "#  9770\n",
    "#  Total\n",
    "#  300\n",
    "#  9700\n",
    "#  10000\n"
   ]
  },
  {
   "cell_type": "code",
   "execution_count": 1,
   "metadata": {},
   "outputs": [
    {
     "name": "stdout",
     "output_type": "stream",
     "text": [
      "Accuracy: 0.9650\n",
      "Error Rate: 0.0350\n",
      "Precision: 0.3000\n",
      "Recall: 0.3913\n"
     ]
    }
   ],
   "source": [
    "# Given confusion matrix values\n",
    "TP = 90     # True Positives (cancer = yes and predicted = yes)\n",
    "FN = 140    # False Negatives (cancer = yes but predicted = no)\n",
    "FP = 210    # False Positives (cancer = no but predicted = yes)\n",
    "TN = 9560   # True Negatives (cancer = no and predicted = no)\n",
    "\n",
    "# Calculating metrics\n",
    "accuracy = (TP + TN) / (TP + TN + FP + FN)\n",
    "error_rate = (FP + FN) / (TP + TN + FP + FN)\n",
    "precision = TP / (TP + FP) if (TP + FP) != 0 else 0\n",
    "recall = TP / (TP + FN) if (TP + FN) != 0 else 0\n",
    "\n",
    "# Printing results\n",
    "print(f\"Accuracy: {accuracy:.4f}\")\n",
    "print(f\"Error Rate: {error_rate:.4f}\")\n",
    "print(f\"Precision: {precision:.4f}\")\n",
    "print(f\"Recall: {recall:.4f}\")\n"
   ]
  },
  {
   "cell_type": "code",
   "execution_count": null,
   "metadata": {},
   "outputs": [],
   "source": []
  }
 ],
 "metadata": {
  "kernelspec": {
   "display_name": "Python 3",
   "language": "python",
   "name": "python3"
  },
  "language_info": {
   "codemirror_mode": {
    "name": "ipython",
    "version": 3
   },
   "file_extension": ".py",
   "mimetype": "text/x-python",
   "name": "python",
   "nbconvert_exporter": "python",
   "pygments_lexer": "ipython3",
   "version": "3.12.7"
  }
 },
 "nbformat": 4,
 "nbformat_minor": 2
}
