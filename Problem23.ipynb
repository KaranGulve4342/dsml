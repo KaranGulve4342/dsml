{
 "cells": [
  {
   "cell_type": "code",
   "execution_count": null,
   "metadata": {},
   "outputs": [],
   "source": [
    "# With reference to Table , obtain the Frequency table for the\n",
    "#  attribute age. From the frequency table you have obtained, calculate the\n",
    "#  information gain of the frequency table while splitting on Age. (Use step\n",
    "#  by step Python/Pandas commands)"
   ]
  },
  {
   "cell_type": "code",
   "execution_count": 2,
   "metadata": {},
   "outputs": [],
   "source": [
    "# reading xlsx file\n",
    "\n",
    "import pandas as pd\n",
    "import numpy as np\n",
    "\n",
    "data = pd.read_excel(r'C:\\Users\\KARAN\\Downloads\\DSML_PRACTICAL\\DSML_PRACTICAL\\Datasets\\Age Table.xlsx')"
   ]
  },
  {
   "cell_type": "code",
   "execution_count": 3,
   "metadata": {},
   "outputs": [
    {
     "data": {
      "text/html": [
       "<div>\n",
       "<style scoped>\n",
       "    .dataframe tbody tr th:only-of-type {\n",
       "        vertical-align: middle;\n",
       "    }\n",
       "\n",
       "    .dataframe tbody tr th {\n",
       "        vertical-align: top;\n",
       "    }\n",
       "\n",
       "    .dataframe thead th {\n",
       "        text-align: right;\n",
       "    }\n",
       "</style>\n",
       "<table border=\"1\" class=\"dataframe\">\n",
       "  <thead>\n",
       "    <tr style=\"text-align: right;\">\n",
       "      <th></th>\n",
       "      <th>Age</th>\n",
       "      <th>Income</th>\n",
       "      <th>Married</th>\n",
       "      <th>Health</th>\n",
       "      <th>Class</th>\n",
       "    </tr>\n",
       "  </thead>\n",
       "  <tbody>\n",
       "    <tr>\n",
       "      <th>0</th>\n",
       "      <td>Young</td>\n",
       "      <td>High</td>\n",
       "      <td>No</td>\n",
       "      <td>Fair</td>\n",
       "      <td>No</td>\n",
       "    </tr>\n",
       "    <tr>\n",
       "      <th>1</th>\n",
       "      <td>Young</td>\n",
       "      <td>High</td>\n",
       "      <td>No</td>\n",
       "      <td>Good</td>\n",
       "      <td>No</td>\n",
       "    </tr>\n",
       "    <tr>\n",
       "      <th>2</th>\n",
       "      <td>Middle</td>\n",
       "      <td>High</td>\n",
       "      <td>No</td>\n",
       "      <td>Fair</td>\n",
       "      <td>Yes</td>\n",
       "    </tr>\n",
       "    <tr>\n",
       "      <th>3</th>\n",
       "      <td>Old</td>\n",
       "      <td>Medium</td>\n",
       "      <td>No</td>\n",
       "      <td>Fair</td>\n",
       "      <td>Yes</td>\n",
       "    </tr>\n",
       "    <tr>\n",
       "      <th>4</th>\n",
       "      <td>Old</td>\n",
       "      <td>Low</td>\n",
       "      <td>Yes</td>\n",
       "      <td>Fair</td>\n",
       "      <td>Yes</td>\n",
       "    </tr>\n",
       "  </tbody>\n",
       "</table>\n",
       "</div>"
      ],
      "text/plain": [
       "      Age  Income Married Health  Class\n",
       "0   Young    High      No    Fair    No\n",
       "1   Young    High      No    Good    No\n",
       "2  Middle    High      No    Fair   Yes\n",
       "3     Old  Medium      No    Fair   Yes\n",
       "4     Old     Low     Yes    Fair   Yes"
      ]
     },
     "execution_count": 3,
     "metadata": {},
     "output_type": "execute_result"
    }
   ],
   "source": [
    "data.head()"
   ]
  },
  {
   "cell_type": "code",
   "execution_count": 4,
   "metadata": {},
   "outputs": [
    {
     "name": "stdout",
     "output_type": "stream",
     "text": [
      "Frequency Table for 'Age':\n",
      " Class   No  Yes\n",
      "Age            \n",
      "Middle   0    4\n",
      "Old      2    3\n",
      "Young    3    1\n",
      "Young    0    1\n"
     ]
    }
   ],
   "source": [
    "## Frequency Table for 'Age'\n",
    "\n",
    "freq_table = data.groupby(['Age', 'Class']).size().unstack(fill_value=0)\n",
    "print(\"Frequency Table for 'Age':\\n\", freq_table)"
   ]
  },
  {
   "cell_type": "code",
   "execution_count": 5,
   "metadata": {},
   "outputs": [
    {
     "name": "stdout",
     "output_type": "stream",
     "text": [
      "\n",
      "Total Entropy: 0.9403\n"
     ]
    }
   ],
   "source": [
    "## Total entropy (Class column)\n",
    "total_count = len(data)\n",
    "class_counts = data['Class'].value_counts()\n",
    "\n",
    "total_entropy = -sum((count/total_count) * np.log2(count/total_count) for count in class_counts)\n",
    "\n",
    "print(f\"\\nTotal Entropy: {total_entropy:.4f}\")"
   ]
  },
  {
   "cell_type": "code",
   "execution_count": 11,
   "metadata": {},
   "outputs": [
    {
     "name": "stdout",
     "output_type": "stream",
     "text": [
      "\n",
      "Entropy for each Age group:\n",
      "Middle: -0.0000\n",
      "Old: 0.9710\n",
      "Young: 0.8113\n",
      "Young : -0.0000\n"
     ]
    }
   ],
   "source": [
    "## Calculate Entropy for each Age Group\n",
    "\n",
    "age_groups = freq_table.index\n",
    "age_entropy = {}\n",
    "for age in age_groups:\n",
    "    age_total = freq_table.loc[age].sum()\n",
    "    entropy = -sum(\n",
    "        (freq_table.loc[age, cls] / age_total) * np.log2(freq_table.loc[age, cls] / age_total)\n",
    "        for cls in freq_table.columns\n",
    "        if freq_table.loc[age, cls] != 0  # Exclude cases where probability is zero\n",
    "    )\n",
    "    age_entropy[age] = max(entropy, 0)  # Ensure entropy is non-negative\n",
    "\n",
    "print(\"\\nEntropy for each Age group:\")\n",
    "for age, entropy in age_entropy.items():\n",
    "    print(f\"{age}: {entropy:.4f}\")"
   ]
  },
  {
   "cell_type": "code",
   "execution_count": 13,
   "metadata": {},
   "outputs": [
    {
     "name": "stdout",
     "output_type": "stream",
     "text": [
      "\n",
      "Weighted Entropy: 0.5786\n"
     ]
    }
   ],
   "source": [
    "## Weighted entropy after splitting an Age\n",
    "\n",
    "weighted_entropy = sum(\n",
    "    (freq_table.loc[age].sum() / total_count) * age_entropy[age]\n",
    "    for age in age_groups\n",
    ")\n",
    "\n",
    "print(f\"\\nWeighted Entropy: {weighted_entropy:.4f}\")"
   ]
  },
  {
   "cell_type": "code",
   "execution_count": 14,
   "metadata": {},
   "outputs": [
    {
     "name": "stdout",
     "output_type": "stream",
     "text": [
      "\n",
      "Information Gain for splitting on Age: 0.3617\n"
     ]
    }
   ],
   "source": [
    "# Step 5: Information Gain\n",
    "information_gain = total_entropy - weighted_entropy\n",
    "print(f\"\\nInformation Gain for splitting on Age: {information_gain:.4f}\")"
   ]
  },
  {
   "cell_type": "code",
   "execution_count": null,
   "metadata": {},
   "outputs": [],
   "source": []
  }
 ],
 "metadata": {
  "kernelspec": {
   "display_name": "Python 3",
   "language": "python",
   "name": "python3"
  },
  "language_info": {
   "codemirror_mode": {
    "name": "ipython",
    "version": 3
   },
   "file_extension": ".py",
   "mimetype": "text/x-python",
   "name": "python",
   "nbconvert_exporter": "python",
   "pygments_lexer": "ipython3",
   "version": "3.12.7"
  }
 },
 "nbformat": 4,
 "nbformat_minor": 2
}
