{
 "cells": [
  {
   "cell_type": "code",
   "execution_count": 1,
   "metadata": {},
   "outputs": [],
   "source": [
    "import pandas as pd\n",
    "import math"
   ]
  },
  {
   "cell_type": "code",
   "execution_count": 5,
   "metadata": {},
   "outputs": [],
   "source": [
    "data = pd.read_csv(r'C:\\Users\\KARAN\\Downloads\\DSML_PRACTICAL\\DSML_PRACTICAL\\Datasets\\Lipstick.csv')"
   ]
  },
  {
   "cell_type": "code",
   "execution_count": 12,
   "metadata": {},
   "outputs": [],
   "source": [
    "# How do I delete the Id column of the dataset\n",
    "data.drop('Id', axis=1, inplace=True)"
   ]
  },
  {
   "cell_type": "code",
   "execution_count": 13,
   "metadata": {},
   "outputs": [],
   "source": [
    "# function to calculate entropy\n",
    "def calculate_entropy(data, target_column):\n",
    "    values = data[target_column].value_counts()\n",
    "    entropy = 0\n",
    "    for count in values:\n",
    "        probability = count/len(data)\n",
    "        entropy -= probability * math.log2(probability)\n",
    "    return entropy"
   ]
  },
  {
   "cell_type": "code",
   "execution_count": 14,
   "metadata": {},
   "outputs": [],
   "source": [
    "# function to calculate information gain\n",
    "def calculate_information_gain(data, attribute, target_col):\n",
    "    total_entropy = calculate_entropy(data, target_col)\n",
    "\n",
    "    # calculate weighted entropy for the attribute\n",
    "    values = data[attribute].value_counts(normalize=True)\n",
    "    weighted_entropy = sum(\n",
    "        values[value] * calculate_entropy(data[data[attribute] == value], target_col)\n",
    "        for value in values.index\n",
    "    )\n",
    "\n",
    "    # information gain\n",
    "    info_gain = total_entropy - weighted_entropy\n",
    "    return info_gain"
   ]
  },
  {
   "cell_type": "code",
   "execution_count": 15,
   "metadata": {},
   "outputs": [],
   "source": [
    "# step-by-step decision tree creation\n",
    "target_column = \"Buys\"\n",
    "attributes = [col for col in data.columns if col != target_column]\n"
   ]
  },
  {
   "cell_type": "code",
   "execution_count": 16,
   "metadata": {},
   "outputs": [],
   "source": [
    "# calculate information gain for each attributes\n",
    "info_gains = {}\n",
    "for attribute in attributes:\n",
    "    info_gains[attribute] = calculate_information_gain(data, attribute, target_column)"
   ]
  },
  {
   "cell_type": "code",
   "execution_count": 17,
   "metadata": {},
   "outputs": [],
   "source": [
    "# Find the root node\n",
    "root_node = max(info_gains, key=info_gains.get)"
   ]
  },
  {
   "cell_type": "code",
   "execution_count": 18,
   "metadata": {},
   "outputs": [
    {
     "name": "stdout",
     "output_type": "stream",
     "text": [
      "Information Gain for each attribute:\n",
      "Age : 0.24674981977443933\n",
      "Income : 0.02922256565895487\n",
      "Gender : 0.15183550136234159\n",
      "Ms : 0.016111606370189824\n",
      "\n",
      "Root Node of the Decision Tree: Age\n"
     ]
    }
   ],
   "source": [
    "# display the results\n",
    "print(\"Information Gain for each attribute:\")\n",
    "for attr, gain in info_gains.items():\n",
    "    print(f\"{attr} : {gain}\")\n",
    "\n",
    "print(f\"\\nRoot Node of the Decision Tree: {root_node}\")"
   ]
  },
  {
   "cell_type": "code",
   "execution_count": null,
   "metadata": {},
   "outputs": [],
   "source": []
  }
 ],
 "metadata": {
  "kernelspec": {
   "display_name": "Python 3",
   "language": "python",
   "name": "python3"
  },
  "language_info": {
   "codemirror_mode": {
    "name": "ipython",
    "version": 3
   },
   "file_extension": ".py",
   "mimetype": "text/x-python",
   "name": "python",
   "nbconvert_exporter": "python",
   "pygments_lexer": "ipython3",
   "version": "3.12.7"
  }
 },
 "nbformat": 4,
 "nbformat_minor": 2
}
